{
 "cells": [
  {
   "cell_type": "markdown",
   "id": "b75b2c8c-81ec-4301-bd4c-3e1ed72d3334",
   "metadata": {},
   "source": [
    "## Distributed Data Parallel"
   ]
  },
  {
   "cell_type": "markdown",
   "id": "bb566f5e-18e5-46bf-b827-45ebed617deb",
   "metadata": {},
   "source": [
    "### Dependencies"
   ]
  },
  {
   "cell_type": "code",
   "execution_count": 1,
   "id": "d75c1661-2e00-404e-833e-60798c037003",
   "metadata": {},
   "outputs": [
    {
     "name": "stderr",
     "output_type": "stream",
     "text": [
      "/shared/centos7/anaconda3/2022.05/lib/python3.9/site-packages/scipy/__init__.py:146: UserWarning: A NumPy version >=1.16.5 and <1.23.0 is required for this version of SciPy (detected version 1.26.4\n",
      "  warnings.warn(f\"A NumPy version >={np_minversion} and <{np_maxversion}\"\n"
     ]
    }
   ],
   "source": [
    "import os\n",
    "import time\n",
    "import warnings\n",
    "\n",
    "import numpy as np\n",
    "import matplotlib.pyplot as plt\n",
    "\n",
    "import torch\n",
    "import torch.distributed as dist\n",
    "import torch.multiprocessing as mp\n",
    "import torch.nn as nn\n",
    "import torch.optim as optim\n",
    "from torch.nn.parallel import DistributedDataParallel as DDP\n",
    "import torch.distributed as dist\n",
    "from sklearn.metrics import classification_report, f1_score\n",
    "from torchvision.datasets import ImageFolder\n",
    "from torchvision import transforms\n",
    "from torch.utils.data import DataLoader, DistributedSampler, random_split\n",
    "import torchvision.models as models\n",
    "from tqdm import tqdm\n",
    "\n",
    "# Suppress all UserWarnings\n",
    "warnings.simplefilter(\"ignore\", category=UserWarning)"
   ]
  },
  {
   "cell_type": "markdown",
   "id": "8a4301df-2c39-462d-b876-d6cb94acfc0c",
   "metadata": {},
   "source": [
    "### Set environment variables"
   ]
  },
  {
   "cell_type": "code",
   "execution_count": 2,
   "id": "7908b960-97b1-4c49-b6c6-1009c4be1f50",
   "metadata": {},
   "outputs": [],
   "source": [
    "\n",
    "os.environ[\"MASTER_ADDR\"] = \"127.0.0.1\"  # Set the master address\n",
    "os.environ[\"MASTER_PORT\"] = \"29500\"      # Set the master port\n"
   ]
  },
  {
   "cell_type": "markdown",
   "id": "af3a64d5-096e-4765-b04d-a13e8eb6633b",
   "metadata": {},
   "source": [
    "In Distributed Data Parallel (DDP), these environment variables are used to set the address and port of the master process, which coordinates communication between the different processes involved in distributed training. Specifically:\n",
    "\n",
    "- `MASTER_ADDR`: The master process is responsible for coordinating communication among all the processes participating in distributed training.\n",
    "  \n",
    "- `MASTER_PORT`: This environment variable sets the port number on which the master process listens for communication from other processes.\n"
   ]
  },
  {
   "cell_type": "markdown",
   "id": "ad2e21d4-8c88-416a-b03a-4d3e6d5dd5cf",
   "metadata": {},
   "source": [
    "### Helper Functions"
   ]
  },
  {
   "cell_type": "code",
   "execution_count": 3,
   "id": "a6ade3de-6292-429d-ab51-13bfaa2e5f4d",
   "metadata": {},
   "outputs": [],
   "source": [
    "# Define the EfficientNetB3-based model with custom classifier\n",
    "class EfficientNetB3(nn.Module):\n",
    "    \"\"\"\n",
    "    EfficientNetB3-based model with a custom classifier.\n",
    "\n",
    "    This model utilizes the EfficientNetB3 architecture as the base model with a custom classifier\n",
    "    appended to the feature extractor. The original classifier is removed, and a new linear layer is added\n",
    "    to classify the input into the specified number of classes.\n",
    "\n",
    "    Args:\n",
    "        num_classes (int): The number of output classes.\n",
    "\n",
    "    Attributes:\n",
    "        base_model (torch.nn.Module): The EfficientNetB3 base model.\n",
    "        classifier (torch.nn.Linear): Custom classifier added for classification.\n",
    "\n",
    "    Methods:\n",
    "        forward(x): Performs forward pass through the network.\n",
    "    \"\"\"\n",
    "\n",
    "    def __init__(self, num_classes):\n",
    "        \"\"\"\n",
    "        Initializes the EfficientNetB3-based model with a custom classifier.\n",
    "\n",
    "        Args:\n",
    "            num_classes (int): The number of output classes.\n",
    "        \"\"\"\n",
    "        super(EfficientNetB3, self).__init__()\n",
    "        self.base_model = models.efficientnet_b3(pretrained=True)\n",
    "        self.base_model.classifier = nn.Identity()  # Remove original classifier\n",
    "        # Calculate the number of input features dynamically\n",
    "        num_features = self.base_model(torch.zeros(1, 3, 224, 224)).shape[1]\n",
    "        self.classifier = nn.Linear(num_features, num_classes)\n",
    "\n",
    "    def forward(self, x):\n",
    "        \"\"\"\n",
    "        Performs forward pass through the network.\n",
    "\n",
    "        Args:\n",
    "            x (torch.Tensor): Input tensor to the network.\n",
    "\n",
    "        Returns:\n",
    "            torch.Tensor: Output tensor after passing through the network.\n",
    "        \"\"\"\n",
    "        x = self.base_model(x)\n",
    "        x = self.classifier(x)\n",
    "        return x\n",
    "\n",
    "\n",
    "class CustomDataset(torch.utils.data.Dataset):\n",
    "    \"\"\"\n",
    "    A custom PyTorch Dataset class for loading image data from a directory.\n",
    "\n",
    "    Args:\n",
    "        data_dir (str): Path to the root directory containing the image data.\n",
    "        train (bool): Whether the dataset is used for training or not. Default is True.\n",
    "        transform (callable, optional): Optional transform to be applied to the images. Default is None.\n",
    "        train_size (float): The proportion of the dataset to use for training if train=True. Default is 0.9.\n",
    "    \"\"\"\n",
    "    def __init__(self, data_dir, train=True, transform=None, train_size=0.9):\n",
    "        self.data_dir = data_dir\n",
    "        self.train = train\n",
    "        self.transform = transform\n",
    "        self.train_size = train_size\n",
    "\n",
    "        if self.train:\n",
    "            self.dataset = ImageFolder(root=self.data_dir, transform=self.transform)\n",
    "            # Split the dataset into train and validation sets based on the train_size\n",
    "            train_len = int(self.train_size * len(self.dataset))\n",
    "            val_len = len(self.dataset) - train_len\n",
    "            self.dataset, _ = torch.utils.data.random_split(self.dataset, [train_len, val_len])\n",
    "        else:\n",
    "            self.dataset = ImageFolder(root=self.data_dir, transform=self.transform)\n",
    "\n",
    "    def __len__(self):\n",
    "        return len(self.dataset)\n",
    "\n",
    "    def __getitem__(self, idx):\n",
    "        return self.dataset[idx]"
   ]
  },
  {
   "cell_type": "code",
   "execution_count": 4,
   "id": "010e3caf-9df7-4012-aad5-ffd9831043d6",
   "metadata": {},
   "outputs": [],
   "source": [
    "def setup_ddp(rank, world_size):\n",
    "    '''\n",
    "    Initialize the process group\n",
    "    rank: Particular GPU (a unique identifier)\n",
    "    world_size: NO of GPU available\n",
    "    '''\n",
    "    dist.init_process_group(backend='nccl', init_method='env://', world_size=world_size, rank=rank)\n",
    "    torch.cuda.set_device(rank)\n",
    "\n",
    "def train_model(model, train_loader, valid_loader, criterion, optimizer, device, num_epochs):\n",
    "    \"\"\"\n",
    "    Train the given model using the provided data loaders.\n",
    "\n",
    "    Args:\n",
    "        model (torch.nn.Module): The neural network model to train.\n",
    "        train_loader (torch.utils.data.DataLoader): DataLoader for the training dataset.\n",
    "        valid_loader (torch.utils.data.DataLoader): DataLoader for the validation dataset.\n",
    "        criterion (torch.nn.Module): The loss function used for optimization.\n",
    "        optimizer (torch.optim.Optimizer): The optimization algorithm.\n",
    "        device (torch.device): The device to use for training (e.g., 'cuda' or 'cpu').\n",
    "        num_epochs (int): Number of epochs to train the model.\n",
    "\n",
    "    Returns:\n",
    "        classification_reports (list): List containing classification reports from each GPU.\n",
    "    \"\"\"\n",
    "    total_start = time.time()\n",
    "    model.train()\n",
    "    epoch_times = []  # List to store time taken for each epoch\n",
    "    for epoch in range(num_epochs):\n",
    "        start_time = time.time()  # Record start time of epoch\n",
    "        \n",
    "        train_losses = []\n",
    "        valid_losses = []\n",
    "        train_correct = 0\n",
    "        valid_correct = 0\n",
    "        train_total = 0\n",
    "        valid_total = 0\n",
    "\n",
    "        # Training loop\n",
    "        pbar = tqdm(train_loader, desc=f'Epoch {epoch + 1}/{num_epochs}')\n",
    "        for images, labels in pbar:\n",
    "            images, labels = images.to(device), labels.to(device)\n",
    "\n",
    "            # Forward pass\n",
    "            outputs = model(images)\n",
    "            loss = criterion(outputs, labels)\n",
    "\n",
    "            # Backward and optimize\n",
    "            optimizer.zero_grad()\n",
    "            loss.backward()\n",
    "            optimizer.step()\n",
    "\n",
    "            # Track training loss\n",
    "            train_losses.append(loss.item())\n",
    "\n",
    "            # Calculate training accuracy\n",
    "            _, predicted = torch.max(outputs, 1)\n",
    "            train_total += labels.size(0)\n",
    "            train_correct += (predicted == labels).sum().item()\n",
    "            train_accuracy = train_correct / train_total\n",
    "\n",
    "            # Update progress bar\n",
    "            pbar.set_postfix({'Train Loss': loss.item(), 'Train Acc': train_accuracy})\n",
    "\n",
    "        # Validation loop\n",
    "        model.eval()\n",
    "        with torch.no_grad():\n",
    "            for images, labels in valid_loader:\n",
    "                images, labels = images.to(device), labels.to(device)\n",
    "                outputs = model(images)\n",
    "                loss = criterion(outputs, labels)\n",
    "\n",
    "                # Track validation loss\n",
    "                valid_losses.append(loss.item())\n",
    "\n",
    "                # Calculate validation accuracy\n",
    "                _, predicted = torch.max(outputs, 1)\n",
    "                valid_total += labels.size(0)\n",
    "                valid_correct += (predicted == labels).sum().item()\n",
    "                valid_accuracy = valid_correct / valid_total\n",
    "\n",
    "        # Calculate average losses and accuracies\n",
    "        avg_train_loss = sum(train_losses) / len(train_losses)\n",
    "        avg_valid_loss = sum(valid_losses) / len(valid_losses)\n",
    "        train_accuracy = train_correct / train_total\n",
    "        valid_accuracy = valid_correct / valid_total\n",
    "\n",
    "        # Record end time of epoch\n",
    "        end_time = time.time()\n",
    "        epoch_duration = end_time - start_time\n",
    "        epoch_times.append(epoch_duration)\n",
    "\n",
    "        # Print epoch summary including time taken\n",
    "        print(f'Epoch [{epoch + 1}/{num_epochs}], Avg Train Loss: {avg_train_loss:.4f}, Avg Valid Loss: {avg_valid_loss:.4f}, Train Acc: {train_accuracy:.4f}, Valid Acc: {valid_accuracy:.4f}, Time: {epoch_duration:.2f} seconds')\n",
    "        \n",
    "\n",
    "    total_end = time.time()\n",
    "    total_exec_time = total_end - total_start\n",
    "    print(f\"Total execution time : {total_exec_time:.2f}s\")\n",
    "\n",
    "    # Plotting time taken over epochs\n",
    "    plt.figure(figsize=(10, 5))\n",
    "    plt.plot(range(1, num_epochs + 1), epoch_times, marker='o', linestyle='-')\n",
    "    plt.xlabel('Epoch')\n",
    "    plt.ylabel('Time (seconds)')\n",
    "    plt.title('Time Taken Over Epochs')\n",
    "    plt.grid(True)\n",
    "    plt.show()   \n",
    "    \n",
    "    evaluate_model(model, valid_loader, criterion, device)\n",
    "\n",
    "def evaluate_model(model, dataloader, criterion, device):\n",
    "    \"\"\"\n",
    "    Evaluate the given model on the provided data.\n",
    "\n",
    "    Args:\n",
    "        model (torch.nn.Module): The model to be evaluated.\n",
    "        dataloader (torch.utils.data.DataLoader): DataLoader providing the evaluation data.\n",
    "        criterion: The loss function used for evaluation.\n",
    "        device (torch.device): Device where the computation will take place (e.g., 'cuda' or 'cpu').\n",
    "\n",
    "    Returns:\n",
    "        Tuple of accuracy and average loss.\n",
    "    \"\"\"\n",
    "    model.eval()\n",
    "    total_correct = 0\n",
    "    total_samples = 0\n",
    "    total_loss = 0.0\n",
    "    all_predictions = []\n",
    "    all_targets = []\n",
    "\n",
    "    with torch.no_grad():\n",
    "        for images, labels in dataloader:\n",
    "            images, labels = images.to(device), labels.to(device)\n",
    "            outputs = model(images)\n",
    "            loss = criterion(outputs, labels)\n",
    "            total_loss += loss.item()\n",
    "\n",
    "            _, predicted = torch.max(outputs, 1)\n",
    "            total_correct += (predicted == labels).sum().item()\n",
    "            total_samples += labels.size(0)\n",
    "\n",
    "            all_predictions.extend(predicted.cpu().numpy())\n",
    "            all_targets.extend(labels.cpu().numpy())\n",
    "\n",
    "    accuracy = total_correct / total_samples\n",
    "    # avg_loss = total_loss / len(dataloader)\n",
    "\n",
    "    # Classification report\n",
    "    class_report = classification_report(all_targets, all_predictions, zero_division=1, output_dict=True)\n",
    "    weighted_avg_accuracy = class_report['weighted avg']['precision']\n",
    "    # weighted_avg_f1_score = class_report['weighted avg']['f1-score']\n",
    "    print(f'Accuracy: {accuracy:.4f}')\n",
    "    print(f'Weighted Average Accuracy: {weighted_avg_accuracy:.4f}')\n",
    "\n",
    "    return accuracy, weighted_avg_accuracy"
   ]
  },
  {
   "cell_type": "code",
   "execution_count": 5,
   "id": "081fd2e4-97dc-487d-aade-d0dbfe44f9cb",
   "metadata": {},
   "outputs": [],
   "source": [
    "def initialize_and_train(rank, world_size):\n",
    "    \"\"\"\n",
    "    Initialize distributed training and train the model.\n",
    "\n",
    "    Args:\n",
    "        rank (int): Rank of the current process in the distributed setup.\n",
    "        world_size (int): Total number of GPUs in the distributed setup.\n",
    "    \"\"\"\n",
    "    # Initialize distributed training\n",
    "    setup_ddp(rank, world_size)\n",
    "    \n",
    "    # Device configuration\n",
    "    device = torch.device('cuda' if torch.cuda.is_available() else 'cpu')\n",
    "    \n",
    "    # Hyperparameters\n",
    "    batch_size = 32\n",
    "    num_epochs = 20\n",
    "    learning_rate = 0.001\n",
    "    \n",
    "    # Data preprocessing\n",
    "    transform = transforms.Compose([\n",
    "        transforms.Resize((300, 300)),\n",
    "        transforms.ToTensor(),\n",
    "        transforms.Normalize(mean=[0.485, 0.456, 0.406], std=[0.229, 0.224, 0.225])\n",
    "    ])\n",
    "\n",
    "    dataset = ImageFolder(root=data_dir, transform=transform)\n",
    "\n",
    "    # Split dataset into training and validation sets\n",
    "    train_size = int(0.9 * len(dataset))\n",
    "    valid_size = len(dataset) - train_size\n",
    "    train_dataset, valid_dataset = random_split(dataset, [train_size, valid_size])\n",
    "    \n",
    "    # Distributed sampler\n",
    "    train_sampler = torch.utils.data.distributed.DistributedSampler(train_dataset, num_replicas=world_size, rank=rank)\n",
    "    valid_sampler = torch.utils.data.distributed.DistributedSampler(valid_dataset, num_replicas=world_size, rank=rank)\n",
    "    \n",
    "    # Data loaders\n",
    "    train_loader = DataLoader(dataset=train_dataset, batch_size=batch_size, sampler=train_sampler)\n",
    "    valid_loader = DataLoader(dataset=valid_dataset, batch_size=batch_size, sampler=valid_sampler)\n",
    "    \n",
    "    \n",
    "    # Model\n",
    "    num_classes = 2  # Adjust based on your dataset\n",
    "    model = EfficientNetB3(num_classes=num_classes).to(device)\n",
    "    model = DDP(model, device_ids=[rank])\n",
    "    \n",
    "    # Loss and optimizer\n",
    "    criterion = nn.CrossEntropyLoss()\n",
    "    optimizer = optim.Adam(model.parameters(), lr=learning_rate)\n",
    "    \n",
    "    # Print resource and data information\n",
    "    print(f'Rank: {rank}\\n')\n",
    "    print(f'World Size(GPU Count): {world_size}\\n')\n",
    "    print(f'Total Samples: {len(dataset)}')\n",
    "    print(f'Total Training Samples: {len(train_dataset)}, Total Validation Samples: {len(valid_dataset)}\\n')\n",
    "    print(f'GPU Memory: {torch.cuda.get_device_properties(rank).total_memory / 1024 ** 3:.2f} GB\\n')\n",
    "    \n",
    "    # Train the model\n",
    "    train_model(model, train_loader, valid_loader, criterion, optimizer, device, num_epochs)"
   ]
  },
  {
   "cell_type": "markdown",
   "id": "3e277c33-55be-4b99-9200-bf6aa52fba6f",
   "metadata": {},
   "source": [
    "### Preprocessing (Define dimensions and Normalize)"
   ]
  },
  {
   "cell_type": "code",
   "execution_count": 6,
   "id": "0578d2fd-8daa-4b27-b00b-98c458b10587",
   "metadata": {},
   "outputs": [],
   "source": [
    "# Define image dimensions\n",
    "img_height = 224\n",
    "img_width = 224\n",
    "data_dir = \"/home/sikhakolli.v/Real_VS_AI/CASIA/Au\"\n",
    "\n",
    "# Define transformations\n",
    "transform = transforms.Compose([\n",
    "    transforms.Resize((img_height, img_width)),\n",
    "    transforms.ToTensor(),\n",
    "    transforms.Normalize(mean=[0.485, 0.456, 0.406], std=[0.229, 0.224, 0.225])\n",
    "])\n"
   ]
  },
  {
   "cell_type": "markdown",
   "id": "0eccc50e-e6ab-4c3e-9bab-c6e89ad2e785",
   "metadata": {},
   "source": [
    "### Initialize the training process"
   ]
  },
  {
   "cell_type": "code",
   "execution_count": 7,
   "id": "64c52c5d-0b30-4a37-acb1-d323cab3eed9",
   "metadata": {},
   "outputs": [
    {
     "name": "stdout",
     "output_type": "stream",
     "text": [
      "Number of GPUs: 2\n",
      "\n",
      "Rank: 0\n",
      "\n",
      "Rank: 1\n",
      "World Size(GPU Count): 2\n",
      "\n",
      "\n",
      "Total Samples: 12614World Size(GPU Count): 2\n",
      "\n",
      "\n",
      "Total Training Samples: 11352, Total Validation Samples: 1262\n",
      "Total Samples: 12614\n",
      "\n",
      "Total Training Samples: 11352, Total Validation Samples: 1262\n",
      "GPU Memory: 31.74 GB\n",
      "\n",
      "\n",
      "GPU Memory: 31.74 GB\n",
      "\n"
     ]
    },
    {
     "name": "stderr",
     "output_type": "stream",
     "text": [
      "Epoch 1/20: 100%|██████████| 178/178 [01:37<00:00,  1.84it/s, Train Loss=0.217, Train Acc=0.779]\n",
      "Epoch 1/20: 100%|██████████| 178/178 [01:37<00:00,  1.82it/s, Train Loss=0.217, Train Acc=0.779]\n"
     ]
    },
    {
     "name": "stdout",
     "output_type": "stream",
     "text": [
      "Epoch [1/20], Avg Train Loss: 0.4534, Avg Valid Loss: 0.3545, Train Acc: 0.7789, Valid Acc: 0.8542, Time: 105.21 seconds\n"
     ]
    },
    {
     "name": "stderr",
     "output_type": "stream",
     "text": [
      "Epoch 2/20:   0%|          | 0/178 [00:00<?, ?it/s]"
     ]
    },
    {
     "name": "stdout",
     "output_type": "stream",
     "text": [
      "Epoch [1/20], Avg Train Loss: 0.4679, Avg Valid Loss: 0.3134, Train Acc: 0.7764, Valid Acc: 0.8700, Time: 105.74 seconds\n"
     ]
    },
    {
     "name": "stderr",
     "output_type": "stream",
     "text": [
      "Epoch 2/20: 100%|██████████| 178/178 [01:35<00:00,  1.86it/s, Train Loss=0.697, Train Acc=0.594] \n",
      "\n"
     ]
    },
    {
     "name": "stdout",
     "output_type": "stream",
     "text": [
      "Epoch [2/20], Avg Train Loss: 523.0310, Avg Valid Loss: 0.6876, Train Acc: 0.5890, Valid Acc: 0.5547, Time: 102.72 seconds\n"
     ]
    },
    {
     "name": "stderr",
     "output_type": "stream",
     "text": [
      "Epoch 3/20:   0%|          | 0/178 [00:00<?, ?it/s]"
     ]
    },
    {
     "name": "stdout",
     "output_type": "stream",
     "text": [
      "Epoch [2/20], Avg Train Loss: 433.4836, Avg Valid Loss: 0.6875, Train Acc: 0.5939, Valid Acc: 0.5547, Time: 103.15 seconds\n"
     ]
    },
    {
     "name": "stderr",
     "output_type": "stream",
     "text": [
      "Epoch 16/20: 100%|██████████| 178/178 [01:40<00:00,  1.68it/s, Train Loss=0.747, Train Acc=0.597]\n",
      "Epoch 16/20: 100%|██████████| 178/178 [01:40<00:00,  1.78it/s, Train Loss=0.747, Train Acc=0.597]\n"
     ]
    },
    {
     "name": "stdout",
     "output_type": "stream",
     "text": [
      "Epoch [16/20], Avg Train Loss: 0.6745, Avg Valid Loss: 0.6917, Train Acc: 0.5969, Valid Acc: 0.5547, Time: 106.80 seconds\n"
     ]
    },
    {
     "name": "stderr",
     "output_type": "stream",
     "text": [
      "Epoch 17/20:   0%|          | 0/178 [00:00<?, ?it/s]"
     ]
    },
    {
     "name": "stdout",
     "output_type": "stream",
     "text": [
      "Epoch [16/20], Avg Train Loss: 0.6735, Avg Valid Loss: 0.6914, Train Acc: 0.5995, Valid Acc: 0.5547, Time: 106.80 seconds\n"
     ]
    },
    {
     "name": "stderr",
     "output_type": "stream",
     "text": [
      "Epoch 17/20: 100%|██████████| 178/178 [01:38<00:00,  1.81it/s, Train Loss=0.747, Train Acc=0.597]\n",
      "\n"
     ]
    },
    {
     "name": "stdout",
     "output_type": "stream",
     "text": [
      "Epoch [17/20], Avg Train Loss: 0.6745, Avg Valid Loss: 0.6917, Train Acc: 0.5969, Valid Acc: 0.5547, Time: 104.82 seconds\n"
     ]
    },
    {
     "name": "stderr",
     "output_type": "stream",
     "text": [
      "Epoch 18/20:   0%|          | 0/178 [00:00<?, ?it/s]"
     ]
    },
    {
     "name": "stdout",
     "output_type": "stream",
     "text": [
      "Epoch [17/20], Avg Train Loss: 0.6735, Avg Valid Loss: 0.6914, Train Acc: 0.5995, Valid Acc: 0.5547, Time: 104.76 seconds\n"
     ]
    },
    {
     "name": "stderr",
     "output_type": "stream",
     "text": [
      "Epoch 18/20: 100%|██████████| 178/178 [01:35<00:00,  1.86it/s, Train Loss=0.713, Train Acc=0.6]7]\n",
      "\n"
     ]
    },
    {
     "name": "stdout",
     "output_type": "stream",
     "text": [
      "Epoch [18/20], Avg Train Loss: 0.6745, Avg Valid Loss: 0.6917, Train Acc: 0.5969, Valid Acc: 0.5547, Time: 103.37 seconds\n"
     ]
    },
    {
     "name": "stderr",
     "output_type": "stream",
     "text": [
      "Epoch 19/20:   0%|          | 0/178 [00:00<?, ?it/s]"
     ]
    },
    {
     "name": "stdout",
     "output_type": "stream",
     "text": [
      "Epoch [18/20], Avg Train Loss: 0.6735, Avg Valid Loss: 0.6914, Train Acc: 0.5995, Valid Acc: 0.5547, Time: 103.41 seconds\n"
     ]
    },
    {
     "name": "stderr",
     "output_type": "stream",
     "text": [
      "Epoch 19/20: 100%|██████████| 178/178 [01:37<00:00,  1.83it/s, Train Loss=0.747, Train Acc=0.597]\n",
      "\n"
     ]
    },
    {
     "name": "stdout",
     "output_type": "stream",
     "text": [
      "Epoch [19/20], Avg Train Loss: 0.6745, Avg Valid Loss: 0.6917, Train Acc: 0.5969, Valid Acc: 0.5547, Time: 103.92 seconds\n"
     ]
    },
    {
     "name": "stderr",
     "output_type": "stream",
     "text": [
      "Epoch 20/20:   0%|          | 0/178 [00:00<?, ?it/s]"
     ]
    },
    {
     "name": "stdout",
     "output_type": "stream",
     "text": [
      "Epoch [19/20], Avg Train Loss: 0.6735, Avg Valid Loss: 0.6914, Train Acc: 0.5995, Valid Acc: 0.5547, Time: 103.93 seconds\n"
     ]
    },
    {
     "name": "stderr",
     "output_type": "stream",
     "text": [
      "Epoch 20/20: 100%|██████████| 178/178 [01:37<00:00,  2.17it/s, Train Loss=0.747, Train Acc=0.597]\n",
      "Epoch 20/20: 100%|██████████| 178/178 [01:37<00:00,  1.83it/s, Train Loss=0.747, Train Acc=0.597]\n"
     ]
    },
    {
     "name": "stdout",
     "output_type": "stream",
     "text": [
      "Epoch [20/20], Avg Train Loss: 0.6745, Avg Valid Loss: 0.6917, Train Acc: 0.5969, Valid Acc: 0.5547, Time: 103.96 seconds\n",
      "Total execution time : 2066.72s\n"
     ]
    },
    {
     "data": {
      "image/png": "[encoded data removed]",
      "text/plain": [
       "<Figure size 720x360 with 1 Axes>"
      ]
     },
     "metadata": {
      "needs_background": "light"
     },
     "output_type": "display_data"
    },
    {
     "name": "stdout",
     "output_type": "stream",
     "text": [
      "Epoch [20/20], Avg Train Loss: 0.6735, Avg Valid Loss: 0.6914, Train Acc: 0.5995, Valid Acc: 0.5547, Time: 103.96 seconds\n",
      "Total execution time : 2067.78s\n"
     ]
    },
    {
     "data": {
      "image/png": "[encoded data removed]",
      "text/plain": [
       "<Figure size 720x360 with 1 Axes>"
      ]
     },
     "metadata": {
      "needs_background": "light"
     },
     "output_type": "display_data"
    },
    {
     "name": "stdout",
     "output_type": "stream",
     "text": [
      "Accuracy: 0.5547\n",
      "Weighted Average Accuracy: 0.7530\n",
      "Accuracy: 0.5547\n",
      "Weighted Average Accuracy: 0.7530\n"
     ]
    }
   ],
   "source": [
    "if __name__ == \"__main__\":\n",
    "    # Number of processes\n",
    "    world_size = torch.cuda.device_count()\n",
    "    print(f'Number of GPUs: {world_size}\\n')\n",
    "\n",
    "    # Start training processes (works for older version)\n",
    "    # mp.spawn(initialize_and_train, args=(world_size,), nprocs=world_size)\n",
    "\n",
    "    # Create a list to hold our processes\n",
    "    processes = []\n",
    "\n",
    "    # Start a process for each GPU\n",
    "    for rank in range(world_size):\n",
    "        \"\"\"\n",
    "        Start a separate process for each GPU to initialize and train the model.\n",
    "\n",
    "        Args:\n",
    "            rank (int): Rank of the current process in the distributed setup.\n",
    "            world_size (int): Total number of processes in the distributed setup.\n",
    "        \"\"\"\n",
    "        p = mp.Process(target=initialize_and_train, args=(rank, world_size))\n",
    "        p.start()\n",
    "        processes.append(p)\n",
    "\n",
    "\n",
    "    # Wait for all processes to finish\n",
    "    for p in processes:\n",
    "        p.join()"
   ]
  },
  {
   "cell_type": "code",
   "execution_count": null,
   "id": "685c67a0-2c32-46e9-b23b-ae0bcf413036",
   "metadata": {},
   "outputs": [],
   "source": []
  },
  {
   "cell_type": "code",
   "execution_count": null,
   "id": "e36f895b-1492-450a-94fb-46a186ccfcbd",
   "metadata": {},
   "outputs": [],
   "source": []
  },
  {
   "cell_type": "code",
   "execution_count": null,
   "id": "5da62378-dce3-46e7-9fa4-10bb6d8b04d0",
   "metadata": {},
   "outputs": [],
   "source": []
  },
  {
   "cell_type": "code",
   "execution_count": null,
   "id": "6091de76-551b-433e-a23f-10ad81e4d364",
   "metadata": {},
   "outputs": [],
   "source": []
  },
  {
   "cell_type": "code",
   "execution_count": null,
   "id": "3c45255d-2906-4e01-84c7-d43bb55aa08d",
   "metadata": {},
   "outputs": [],
   "source": []
  }
 ],
 "metadata": {
  "kernelspec": {
   "display_name": "Python 3 (ipykernel)",
   "language": "python",
   "name": "python3"
  },
  "language_info": {
   "codemirror_mode": {
    "name": "ipython",
    "version": 3
   },
   "file_extension": ".py",
   "mimetype": "text/x-python",
   "name": "python",
   "nbconvert_exporter": "python",
   "pygments_lexer": "ipython3",
   "version": "3.9.12"
  }
 },
 "nbformat": 4,
 "nbformat_minor": 5
}
